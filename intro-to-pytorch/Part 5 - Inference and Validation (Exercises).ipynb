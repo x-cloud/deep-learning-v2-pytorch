{
  "nbformat": 4,
  "nbformat_minor": 0,
  "metadata": {
    "colab": {
      "name": "Part 5 - Inference and Validation (Exercises).ipynb",
      "version": "0.3.2",
      "provenance": [],
      "include_colab_link": true
    },
    "language_info": {
      "codemirror_mode": {
        "name": "ipython",
        "version": 3
      },
      "file_extension": ".py",
      "mimetype": "text/x-python",
      "name": "python",
      "nbconvert_exporter": "python",
      "pygments_lexer": "ipython3",
      "version": "3.6.6"
    },
    "kernelspec": {
      "display_name": "Python 3",
      "language": "python",
      "name": "python3"
    }
  },
  "cells": [
    {
      "cell_type": "markdown",
      "metadata": {
        "id": "view-in-github",
        "colab_type": "text"
      },
      "source": [
        "<a href=\"https://colab.research.google.com/github/x-cloud/deep-learning-v2-pytorch/blob/master/intro-to-pytorch/Part%205%20-%20Inference%20and%20Validation%20(Exercises).ipynb\" target=\"_parent\"><img src=\"https://colab.research.google.com/assets/colab-badge.svg\" alt=\"Open In Colab\"/></a>"
      ]
    },
    {
      "metadata": {
        "id": "ZTzddF7ZPR1d",
        "colab_type": "text"
      },
      "cell_type": "markdown",
      "source": [
        "# Inference and Validation\n",
        "\n",
        "Now that you have a trained network, you can use it for making predictions. This is typically called **inference**, a term borrowed from statistics. However, neural networks have a tendency to perform *too well* on the training data and aren't able to generalize to data that hasn't been seen before. This is called **overfitting** and it impairs inference performance. To test for overfitting while training, we measure the performance on data not in the training set called the **validation** set. We avoid overfitting through regularization such as dropout while monitoring the validation performance during training. In this notebook, I'll show you how to do this in PyTorch. \n",
        "\n",
        "As usual, let's start by loading the dataset through torchvision. You'll learn more about torchvision and loading data in a later part. This time we'll be taking advantage of the test set which you can get by setting `train=False` here:\n",
        "\n",
        "```python\n",
        "testset = datasets.FashionMNIST('~/.pytorch/F_MNIST_data/', download=True, train=False, transform=transform)\n",
        "```\n",
        "\n",
        "The test set contains images just like the training set. Typically you'll see 10-20% of the original dataset held out for testing and validation with the rest being used for training."
      ]
    },
    {
      "metadata": {
        "id": "sEVFSA0gPR1g",
        "colab_type": "code",
        "colab": {}
      },
      "cell_type": "code",
      "source": [
        "import torch\n",
        "from torchvision import datasets, transforms\n",
        "\n",
        "# Define a transform to normalize the data\n",
        "transform = transforms.Compose([transforms.ToTensor(),\n",
        "                                transforms.Normalize((0.5,), (0.5,))])\n",
        "# Download and load the training data\n",
        "trainset = datasets.FashionMNIST('~/.pytorch/F_MNIST_data/', download=True, train=True, transform=transform)\n",
        "trainloader = torch.utils.data.DataLoader(trainset, batch_size=64, shuffle=True)\n",
        "\n",
        "# Download and load the test data\n",
        "testset = datasets.FashionMNIST('~/.pytorch/F_MNIST_data/', download=True, train=False, transform=transform)\n",
        "testloader = torch.utils.data.DataLoader(testset, batch_size=64, shuffle=True)"
      ],
      "execution_count": 0,
      "outputs": []
    },
    {
      "metadata": {
        "id": "lX_DewR0PR1p",
        "colab_type": "text"
      },
      "cell_type": "markdown",
      "source": [
        "Here I'll create a model like normal, using the same one from my solution for part 4."
      ]
    },
    {
      "metadata": {
        "id": "P3MoquCWPR1q",
        "colab_type": "code",
        "colab": {}
      },
      "cell_type": "code",
      "source": [
        "from torch import nn, optim\n",
        "import torch.nn.functional as F\n",
        "\n",
        "class Classifier(nn.Module):\n",
        "    def __init__(self):\n",
        "        super().__init__()\n",
        "        self.fc1 = nn.Linear(784, 256)\n",
        "        self.fc2 = nn.Linear(256, 128)\n",
        "        self.fc3 = nn.Linear(128, 64)\n",
        "        self.fc4 = nn.Linear(64, 10)\n",
        "        \n",
        "    def forward(self, x):\n",
        "        # make sure input tensor is flattened\n",
        "        x = x.view(x.shape[0], -1)\n",
        "        \n",
        "        x = F.relu(self.fc1(x))\n",
        "        x = F.relu(self.fc2(x))\n",
        "        x = F.relu(self.fc3(x))\n",
        "        x = F.log_softmax(self.fc4(x), dim=1)\n",
        "        \n",
        "        return x"
      ],
      "execution_count": 0,
      "outputs": []
    },
    {
      "metadata": {
        "id": "31d73kBNPR1u",
        "colab_type": "text"
      },
      "cell_type": "markdown",
      "source": [
        "The goal of validation is to measure the model's performance on data that isn't part of the training set. Performance here is up to the developer to define though. Typically this is just accuracy, the percentage of classes the network predicted correctly. Other options are [precision and recall](https://en.wikipedia.org/wiki/Precision_and_recall#Definition_(classification_context)) and top-5 error rate. We'll focus on accuracy here. First I'll do a forward pass with one batch from the test set."
      ]
    },
    {
      "metadata": {
        "id": "egI0D53APR1w",
        "colab_type": "code",
        "colab": {
          "base_uri": "https://localhost:8080/",
          "height": 35
        },
        "outputId": "4698ebbe-e483-4894-f481-d8c0d39852b3"
      },
      "cell_type": "code",
      "source": [
        "model = Classifier()\n",
        "\n",
        "images, labels = next(iter(testloader))\n",
        "# Get the class probabilities\n",
        "ps = torch.exp(model(images))\n",
        "# Make sure the shape is appropriate, we should get 10 class probabilities for 64 examples\n",
        "print(ps.shape)"
      ],
      "execution_count": 3,
      "outputs": [
        {
          "output_type": "stream",
          "text": [
            "torch.Size([64, 10])\n"
          ],
          "name": "stdout"
        }
      ]
    },
    {
      "metadata": {
        "id": "MluT8RvIPR16",
        "colab_type": "text"
      },
      "cell_type": "markdown",
      "source": [
        "With the probabilities, we can get the most likely class using the `ps.topk` method. This returns the $k$ highest values. Since we just want the most likely class, we can use `ps.topk(1)`. This returns a tuple of the top-$k$ values and the top-$k$ indices. If the highest value is the fifth element, we'll get back 4 as the index."
      ]
    },
    {
      "metadata": {
        "id": "lkCNOorqPR18",
        "colab_type": "code",
        "colab": {
          "base_uri": "https://localhost:8080/",
          "height": 199
        },
        "outputId": "ad0f53e4-d14a-40aa-a233-2e6e1789757d"
      },
      "cell_type": "code",
      "source": [
        "top_p, top_class = ps.topk(1, dim=1)\n",
        "# Look at the most likely classes for the first 10 examples\n",
        "print(top_class[:10,:])"
      ],
      "execution_count": 4,
      "outputs": [
        {
          "output_type": "stream",
          "text": [
            "tensor([[3],\n",
            "        [3],\n",
            "        [5],\n",
            "        [3],\n",
            "        [3],\n",
            "        [4],\n",
            "        [4],\n",
            "        [3],\n",
            "        [3],\n",
            "        [3]])\n"
          ],
          "name": "stdout"
        }
      ]
    },
    {
      "metadata": {
        "id": "7sHEUKCcPR2G",
        "colab_type": "text"
      },
      "cell_type": "markdown",
      "source": [
        "Now we can check if the predicted classes match the labels. This is simple to do by equating `top_class` and `labels`, but we have to be careful of the shapes. Here `top_class` is a 2D tensor with shape `(64, 1)` while `labels` is 1D with shape `(64)`. To get the equality to work out the way we want, `top_class` and `labels` must have the same shape.\n",
        "\n",
        "If we do\n",
        "\n",
        "```python\n",
        "equals = top_class == labels\n",
        "```\n",
        "\n",
        "`equals` will have shape `(64, 64)`, try it yourself. What it's doing is comparing the one element in each row of `top_class` with each element in `labels` which returns 64 True/False boolean values for each row."
      ]
    },
    {
      "metadata": {
        "id": "yFMhB--GPR2J",
        "colab_type": "code",
        "colab": {}
      },
      "cell_type": "code",
      "source": [
        "equals = top_class == labels.view(*top_class.shape)"
      ],
      "execution_count": 0,
      "outputs": []
    },
    {
      "metadata": {
        "id": "tqGGa4qaPR2P",
        "colab_type": "text"
      },
      "cell_type": "markdown",
      "source": [
        "Now we need to calculate the percentage of correct predictions. `equals` has binary values, either 0 or 1. This means that if we just sum up all the values and divide by the number of values, we get the percentage of correct predictions. This is the same operation as taking the mean, so we can get the accuracy with a call to `torch.mean`. If only it was that simple. If you try `torch.mean(equals)`, you'll get an error\n",
        "\n",
        "```\n",
        "RuntimeError: mean is not implemented for type torch.ByteTensor\n",
        "```\n",
        "\n",
        "This happens because `equals` has type `torch.ByteTensor` but `torch.mean` isn't implemented for tensors with that type. So we'll need to convert `equals` to a float tensor. Note that when we take `torch.mean` it returns a scalar tensor, to get the actual value as a float we'll need to do `accuracy.item()`."
      ]
    },
    {
      "metadata": {
        "id": "FOgBnWCuPR2Q",
        "colab_type": "code",
        "colab": {
          "base_uri": "https://localhost:8080/",
          "height": 35
        },
        "outputId": "db56ff93-9467-4e3f-b853-36e7c6e92e52"
      },
      "cell_type": "code",
      "source": [
        "accuracy = torch.mean(equals.type(torch.FloatTensor))\n",
        "print(f'Accuracy: {accuracy.item()*100}%')"
      ],
      "execution_count": 6,
      "outputs": [
        {
          "output_type": "stream",
          "text": [
            "Accuracy: 7.8125%\n"
          ],
          "name": "stdout"
        }
      ]
    },
    {
      "metadata": {
        "id": "kHN5QoLnPR2X",
        "colab_type": "text"
      },
      "cell_type": "markdown",
      "source": [
        "The network is untrained so it's making random guesses and we should see an accuracy around 10%. Now let's train our network and include our validation pass so we can measure how well the network is performing on the test set. Since we're not updating our parameters in the validation pass, we can speed up our code by turning off gradients using `torch.no_grad()`:\n",
        "\n",
        "```python\n",
        "# turn off gradients\n",
        "with torch.no_grad():\n",
        "    # validation pass here\n",
        "    for images, labels in testloader:\n",
        "        ...\n",
        "```\n",
        "\n",
        ">**Exercise:** Implement the validation loop below and print out the total accuracy after the loop. You can largely copy and paste the code from above, but I suggest typing it in because writing it out yourself is essential for building the skill. In general you'll always learn more by typing it rather than copy-pasting. You should be able to get an accuracy above 80%."
      ]
    },
    {
      "metadata": {
        "id": "n2rSYUTNPR2Z",
        "colab_type": "code",
        "colab": {
          "base_uri": "https://localhost:8080/",
          "height": 563
        },
        "outputId": "cce77872-780e-49d3-b70d-27aceca4c57c"
      },
      "cell_type": "code",
      "source": [
        "model = Classifier()\n",
        "criterion = nn.NLLLoss()\n",
        "optimizer = optim.Adam(model.parameters(), lr=0.003)\n",
        "\n",
        "epochs = 30\n",
        "steps = 0\n",
        "\n",
        "train_losses, test_losses = [], []\n",
        "for e in range(epochs):\n",
        "    running_loss = 0\n",
        "    for images, labels in trainloader:\n",
        "        \n",
        "        optimizer.zero_grad()\n",
        "        \n",
        "        log_ps = model(images)\n",
        "        loss = criterion(log_ps, labels)\n",
        "        loss.backward()\n",
        "        optimizer.step()\n",
        "        \n",
        "        running_loss += loss.item()\n",
        "        \n",
        "    else:\n",
        "        ## TODO: Implement the validation pass and print out the validation accuracy        \n",
        "        with torch.no_grad():\n",
        "          test_running_loss = 0\n",
        "          accuracy = 0\n",
        "          \n",
        "          for test_images, test_labels in testloader:\n",
        "            test_log_ps = model(test_images)\n",
        "            test_ps = torch.exp(test_log_ps)\n",
        "            test_loss = criterion(test_log_ps, test_labels)\n",
        "            test_running_loss += test_loss.item()\n",
        "            \n",
        "            top_p, top_class = test_ps.topk(1, dim=1)\n",
        "            equals = (top_class == test_labels.view(*top_class.shape))\n",
        "            accuracy += torch.mean(equals.type(torch.FloatTensor))\n",
        "                  \n",
        "        epoch_train_loss = running_loss / len(trainloader)\n",
        "        train_losses.append(epoch_train_loss)\n",
        "        epoch_test_loss = test_running_loss / len(testloader)\n",
        "        test_losses.append(epoch_test_loss)\n",
        "        print(f'epoch: {e} train_loss: {epoch_train_loss} test_loss: {epoch_test_loss} accuracy: {accuracy / len(testloader) * 100}%')"
      ],
      "execution_count": 7,
      "outputs": [
        {
          "output_type": "stream",
          "text": [
            "epoch: 0 train_loss: 0.5123285497588389 test_loss: 0.4471674204631976 accuracy: 83.97691345214844%\n",
            "epoch: 1 train_loss: 0.3923215518183291 test_loss: 0.39780373225925836 accuracy: 85.92754364013672%\n",
            "epoch: 2 train_loss: 0.35585175291784027 test_loss: 0.39552459661748 accuracy: 85.95740509033203%\n",
            "epoch: 3 train_loss: 0.3343364032966369 test_loss: 0.3745228017021896 accuracy: 86.44506072998047%\n",
            "epoch: 4 train_loss: 0.3186207136302106 test_loss: 0.3849976849593934 accuracy: 86.33558654785156%\n",
            "epoch: 5 train_loss: 0.3048240647101199 test_loss: 0.3841208210986131 accuracy: 86.51473236083984%\n",
            "epoch: 6 train_loss: 0.29664118680904417 test_loss: 0.3440410747269916 accuracy: 87.84832763671875%\n",
            "epoch: 7 train_loss: 0.282612575063192 test_loss: 0.37766982244837816 accuracy: 87.24124145507812%\n",
            "epoch: 8 train_loss: 0.2746898717264821 test_loss: 0.36700370224418155 accuracy: 87.36067199707031%\n",
            "epoch: 9 train_loss: 0.26836623982595864 test_loss: 0.39412622139522224 accuracy: 86.3853530883789%\n",
            "epoch: 10 train_loss: 0.2580464846218255 test_loss: 0.3779618351892301 accuracy: 87.28105163574219%\n",
            "epoch: 11 train_loss: 0.25683508739907984 test_loss: 0.3629703894732105 accuracy: 87.84832763671875%\n",
            "epoch: 12 train_loss: 0.25003200070436066 test_loss: 0.36835476006292234 accuracy: 87.87818908691406%\n",
            "epoch: 13 train_loss: 0.24500501431477095 test_loss: 0.37192314345935346 accuracy: 87.70899963378906%\n",
            "epoch: 14 train_loss: 0.2385105817143851 test_loss: 0.387814963983882 accuracy: 87.6890869140625%\n",
            "epoch: 15 train_loss: 0.2339046357004945 test_loss: 0.38280614622079645 accuracy: 87.80851745605469%\n",
            "epoch: 16 train_loss: 0.22940107898862122 test_loss: 0.38856726410282644 accuracy: 88.06727600097656%\n",
            "epoch: 17 train_loss: 0.22262316290884893 test_loss: 0.3781233390994892 accuracy: 88.14689636230469%\n",
            "epoch: 18 train_loss: 0.21962022387396807 test_loss: 0.3971727429206964 accuracy: 87.40047454833984%\n",
            "epoch: 19 train_loss: 0.217333376359965 test_loss: 0.3841027095913887 accuracy: 88.38574981689453%\n",
            "epoch: 20 train_loss: 0.21490679400514312 test_loss: 0.39162335089247696 accuracy: 88.34593963623047%\n",
            "epoch: 21 train_loss: 0.20887775563482028 test_loss: 0.3891743440536936 accuracy: 88.20660400390625%\n",
            "epoch: 22 train_loss: 0.20396866858291474 test_loss: 0.4182117928270322 accuracy: 88.00756072998047%\n",
            "epoch: 23 train_loss: 0.2059580853848315 test_loss: 0.43161587682878894 accuracy: 88.0274658203125%\n",
            "epoch: 24 train_loss: 0.20704889898774212 test_loss: 0.41846366122270084 accuracy: 87.83837890625%\n",
            "epoch: 25 train_loss: 0.19889748913805877 test_loss: 0.4238756116788099 accuracy: 87.97770690917969%\n",
            "epoch: 26 train_loss: 0.19066334503498286 test_loss: 0.3925324746757556 accuracy: 88.00756072998047%\n",
            "epoch: 27 train_loss: 0.19053141559476156 test_loss: 0.4000642697332771 accuracy: 88.31608581542969%\n",
            "epoch: 28 train_loss: 0.19354960693717638 test_loss: 0.39831557295694475 accuracy: 88.26631927490234%\n",
            "epoch: 29 train_loss: 0.18409247730951955 test_loss: 0.41442344598709396 accuracy: 88.03742218017578%\n"
          ],
          "name": "stdout"
        }
      ]
    },
    {
      "metadata": {
        "id": "sT9tOixG5NEA",
        "colab_type": "code",
        "colab": {
          "base_uri": "https://localhost:8080/",
          "height": 285
        },
        "outputId": "5a54c236-18f2-44f2-ef98-51c2d9b043fe"
      },
      "cell_type": "code",
      "source": [
        "%matplotlib inline\n",
        "%config InlineBackend.figure_format = 'retina'\n",
        "\n",
        "import matplotlib.pyplot as plt\n",
        "\n",
        "plt.plot(train_losses, label='Training loss')\n",
        "plt.plot(test_losses, label='Validation loss')\n",
        "plt.legend(frameon=False)"
      ],
      "execution_count": 8,
      "outputs": [
        {
          "output_type": "execute_result",
          "data": {
            "text/plain": [
              "<matplotlib.legend.Legend at 0x7fbe9ff3de48>"
            ]
          },
          "metadata": {
            "tags": []
          },
          "execution_count": 8
        },
        {
          "output_type": "display_data",
          "data": {
            "image/png": "[encoded data removed]",
            "text/plain": [
              "<Figure size 432x288 with 1 Axes>"
            ]
          },
          "metadata": {
            "tags": [],
            "image/png": {
              "width": 380,
              "height": 250
            }
          }
        }
      ]
    },
    {
      "metadata": {
        "id": "JGg2si2XPR2d",
        "colab_type": "text"
      },
      "cell_type": "markdown",
      "source": [
        "## Overfitting\n",
        "\n",
        "If we look at the training and validation losses as we train the network, we can see a phenomenon known as overfitting.\n",
        "\n",
        "<img src='https://github.com/x-cloud/deep-learning-v2-pytorch/blob/master/intro-to-pytorch/assets/overfitting.png?raw=1' width=450px>\n",
        "\n",
        "The network learns the training set better and better, resulting in lower training losses. However, it starts having problems generalizing to data outside the training set leading to the validation loss increasing. The ultimate goal of any deep learning model is to make predictions on new data, so we should strive to get the lowest validation loss possible. One option is to use the version of the model with the lowest validation loss, here the one around 8-10 training epochs. This strategy is called *early-stopping*. In practice, you'd save the model frequently as you're training then later choose the model with the lowest validation loss.\n",
        "\n",
        "The most common method to reduce overfitting (outside of early-stopping) is *dropout*, where we randomly drop input units. This forces the network to share information between weights, increasing it's ability to generalize to new data. Adding dropout in PyTorch is straightforward using the [`nn.Dropout`](https://pytorch.org/docs/stable/nn.html#torch.nn.Dropout) module.\n",
        "\n",
        "```python\n",
        "class Classifier(nn.Module):\n",
        "    def __init__(self):\n",
        "        super().__init__()\n",
        "        self.fc1 = nn.Linear(784, 256)\n",
        "        self.fc2 = nn.Linear(256, 128)\n",
        "        self.fc3 = nn.Linear(128, 64)\n",
        "        self.fc4 = nn.Linear(64, 10)\n",
        "        \n",
        "        # Dropout module with 0.2 drop probability\n",
        "        self.dropout = nn.Dropout(p=0.2)\n",
        "        \n",
        "    def forward(self, x):\n",
        "        # make sure input tensor is flattened\n",
        "        x = x.view(x.shape[0], -1)\n",
        "        \n",
        "        # Now with dropout\n",
        "        x = self.dropout(F.relu(self.fc1(x)))\n",
        "        x = self.dropout(F.relu(self.fc2(x)))\n",
        "        x = self.dropout(F.relu(self.fc3(x)))\n",
        "        \n",
        "        # output so no dropout here\n",
        "        x = F.log_softmax(self.fc4(x), dim=1)\n",
        "        \n",
        "        return x\n",
        "```\n",
        "\n",
        "During training we want to use dropout to prevent overfitting, but during inference we want to use the entire network. So, we need to turn off dropout during validation, testing, and whenever we're using the network to make predictions. To do this, you use `model.eval()`. This sets the model to evaluation mode where the dropout probability is 0. You can turn dropout back on by setting the model to train mode with `model.train()`. In general, the pattern for the validation loop will look like this, where you turn off gradients, set the model to evaluation mode, calculate the validation loss and metric, then set the model back to train mode.\n",
        "\n",
        "```python\n",
        "# turn off gradients\n",
        "with torch.no_grad():\n",
        "    \n",
        "    # set model to evaluation mode\n",
        "    model.eval()\n",
        "    \n",
        "    # validation pass here\n",
        "    for images, labels in testloader:\n",
        "        ...\n",
        "\n",
        "# set model back to train mode\n",
        "model.train()\n",
        "```"
      ]
    },
    {
      "metadata": {
        "id": "HujRiNZAPR2f",
        "colab_type": "text"
      },
      "cell_type": "markdown",
      "source": [
        "> **Exercise:** Add dropout to your model and train it on Fashion-MNIST again. See if you can get a lower validation loss or higher accuracy."
      ]
    },
    {
      "metadata": {
        "id": "ceEN90nWPR2h",
        "colab_type": "code",
        "colab": {}
      },
      "cell_type": "code",
      "source": [
        "## TODO: Define your model with dropout added\n",
        "class Classifier_with_Dropout(nn.Module):\n",
        "    def __init__(self):\n",
        "        super().__init__()\n",
        "        self.fc1 = nn.Linear(784, 256)\n",
        "        self.fc2 = nn.Linear(256, 128)\n",
        "        self.fc3 = nn.Linear(128, 64)\n",
        "        self.fc4 = nn.Linear(64, 10)\n",
        "        # dropout\n",
        "        self.dropout = nn.Dropout(p=0.2)\n",
        "        \n",
        "    def forward(self, x):\n",
        "        # make sure input tensor is flattened\n",
        "        x = x.view(x.shape[0], -1)\n",
        "        # with dropout\n",
        "        x = self.dropout(F.relu(self.fc1(x)))\n",
        "        x = self.dropout(F.relu(self.fc2(x)))\n",
        "        x = self.dropout(F.relu(self.fc3(x)))\n",
        "        # output so no dropout\n",
        "        x = F.log_softmax(self.fc4(x), dim=1)\n",
        "        \n",
        "        return x\n"
      ],
      "execution_count": 0,
      "outputs": []
    },
    {
      "metadata": {
        "id": "e68gAGHAPR2m",
        "colab_type": "code",
        "colab": {
          "base_uri": "https://localhost:8080/",
          "height": 563
        },
        "outputId": "ade4a896-0723-4be1-8a1b-166c1925d44e"
      },
      "cell_type": "code",
      "source": [
        "## TODO: Train your model with dropout, and monitor the training progress with the validation loss and accuracy\n",
        "model = Classifier_with_Dropout()\n",
        "criterion = nn.NLLLoss()\n",
        "optimizer = optim.Adam(model.parameters(), lr=0.003)\n",
        "\n",
        "epochs = 30\n",
        "steps = 0\n",
        "\n",
        "train_losses, test_losses = [], []\n",
        "for e in range(epochs):\n",
        "    # set model to training mode s.t. Dropout is performed\n",
        "    model.train()\n",
        "    \n",
        "    running_loss = 0\n",
        "    for images, labels in trainloader:\n",
        "        \n",
        "        optimizer.zero_grad()\n",
        "        \n",
        "        log_ps = model(images)\n",
        "        loss = criterion(log_ps, labels)\n",
        "        loss.backward()\n",
        "        optimizer.step()\n",
        "        \n",
        "        running_loss += loss.item()\n",
        "        \n",
        "    else:\n",
        "        with torch.no_grad():\n",
        "          # set model to eval mode s.t. no Dropout is performed\n",
        "          model.eval()\n",
        "          \n",
        "          test_running_loss = 0\n",
        "          accuracy = 0\n",
        "          \n",
        "          for test_images, test_labels in testloader:\n",
        "            test_log_ps = model(test_images)\n",
        "            test_ps = torch.exp(test_log_ps)\n",
        "            test_loss = criterion(test_log_ps, test_labels)\n",
        "            test_running_loss += test_loss.item()\n",
        "            \n",
        "            top_p, top_class = test_ps.topk(1, dim=1)\n",
        "            equals = (top_class == test_labels.view(*top_class.shape))\n",
        "            accuracy += torch.mean(equals.type(torch.FloatTensor))\n",
        "                  \n",
        "        epoch_train_loss = running_loss / len(trainloader)\n",
        "        train_losses.append(epoch_train_loss)\n",
        "        epoch_test_loss = test_running_loss / len(testloader)\n",
        "        test_losses.append(epoch_test_loss)\n",
        "        print(f'epoch: {e} train_loss: {epoch_train_loss} test_loss: {epoch_test_loss} accuracy: {accuracy / len(testloader) * 100}%')"
      ],
      "execution_count": 10,
      "outputs": [
        {
          "output_type": "stream",
          "text": [
            "epoch: 0 train_loss: 0.6025560011169804 test_loss: 0.45833296675211305 accuracy: 83.33001708984375%\n",
            "epoch: 1 train_loss: 0.47833343741418455 test_loss: 0.44034833124109135 accuracy: 83.8475341796875%\n",
            "epoch: 2 train_loss: 0.4436587047443461 test_loss: 0.41368141789345225 accuracy: 84.49442291259766%\n",
            "epoch: 3 train_loss: 0.431641699011519 test_loss: 0.3944950402732108 accuracy: 85.70860290527344%\n",
            "epoch: 4 train_loss: 0.4168534695085432 test_loss: 0.41262911962475746 accuracy: 85.78821563720703%\n",
            "epoch: 5 train_loss: 0.41230364493342603 test_loss: 0.4036862703075834 accuracy: 85.3503189086914%\n",
            "epoch: 6 train_loss: 0.40103408622779824 test_loss: 0.4166200933562722 accuracy: 85.60907745361328%\n",
            "epoch: 7 train_loss: 0.3987116888165474 test_loss: 0.40494597214422406 accuracy: 86.03702545166016%\n",
            "epoch: 8 train_loss: 0.39143337986108334 test_loss: 0.39518511731913136 accuracy: 86.32563781738281%\n",
            "epoch: 9 train_loss: 0.38613146367167106 test_loss: 0.378354857776575 accuracy: 86.43511199951172%\n",
            "epoch: 10 train_loss: 0.382702040408593 test_loss: 0.3898995266693413 accuracy: 86.1265869140625%\n",
            "epoch: 11 train_loss: 0.37567543277322357 test_loss: 0.4067592926465782 accuracy: 85.8777847290039%\n",
            "epoch: 12 train_loss: 0.3767608513853062 test_loss: 0.37529063196318924 accuracy: 87.02229309082031%\n",
            "epoch: 13 train_loss: 0.37413624995775313 test_loss: 0.40288037479303446 accuracy: 86.1265869140625%\n",
            "epoch: 14 train_loss: 0.3676629414611152 test_loss: 0.3822556359183257 accuracy: 86.95262908935547%\n",
            "epoch: 15 train_loss: 0.3661133907894209 test_loss: 0.37086478245865767 accuracy: 86.76353454589844%\n",
            "epoch: 16 train_loss: 0.3613904136489195 test_loss: 0.3992191518947577 accuracy: 86.17635345458984%\n",
            "epoch: 17 train_loss: 0.3635542916892561 test_loss: 0.4061664283085781 accuracy: 86.68391418457031%\n",
            "epoch: 18 train_loss: 0.367138956266362 test_loss: 0.38541118629798765 accuracy: 86.51473236083984%\n",
            "epoch: 19 train_loss: 0.3613333234638929 test_loss: 0.37382253273657173 accuracy: 86.90287017822266%\n",
            "epoch: 20 train_loss: 0.36108676696033365 test_loss: 0.3719522340851984 accuracy: 87.59952545166016%\n",
            "epoch: 21 train_loss: 0.3544360254762142 test_loss: 0.37708630018932804 accuracy: 86.87300872802734%\n",
            "epoch: 22 train_loss: 0.3528182194717149 test_loss: 0.386290272899494 accuracy: 86.8829574584961%\n",
            "epoch: 23 train_loss: 0.3514445582226014 test_loss: 0.3784867844953658 accuracy: 86.94267272949219%\n",
            "epoch: 24 train_loss: 0.35269480818179627 test_loss: 0.36514591297526267 accuracy: 87.53981018066406%\n",
            "epoch: 25 train_loss: 0.3536825550199826 test_loss: 0.3647470227946901 accuracy: 87.41043090820312%\n",
            "epoch: 26 train_loss: 0.34201771174190143 test_loss: 0.3735426595066763 accuracy: 87.11186218261719%\n",
            "epoch: 27 train_loss: 0.34217350064183094 test_loss: 0.3835253098588081 accuracy: 87.3109130859375%\n",
            "epoch: 28 train_loss: 0.34333163499832153 test_loss: 0.3969654263869213 accuracy: 87.09195709228516%\n",
            "epoch: 29 train_loss: 0.3383698615708204 test_loss: 0.37611035622988537 accuracy: 87.40047454833984%\n"
          ],
          "name": "stdout"
        }
      ]
    },
    {
      "metadata": {
        "id": "53CtrWDn49Ry",
        "colab_type": "code",
        "colab": {
          "base_uri": "https://localhost:8080/",
          "height": 285
        },
        "outputId": "ddbff600-2b94-43db-b93e-74d32f4a1652"
      },
      "cell_type": "code",
      "source": [
        "%matplotlib inline\n",
        "%config InlineBackend.figure_format = 'retina'\n",
        "\n",
        "import matplotlib.pyplot as plt\n",
        "\n",
        "plt.plot(train_losses, label='Training loss')\n",
        "plt.plot(test_losses, label='Validation loss')\n",
        "plt.legend(frameon=False)"
      ],
      "execution_count": 11,
      "outputs": [
        {
          "output_type": "execute_result",
          "data": {
            "text/plain": [
              "<matplotlib.legend.Legend at 0x7fbeab1bac88>"
            ]
          },
          "metadata": {
            "tags": []
          },
          "execution_count": 11
        },
        {
          "output_type": "display_data",
          "data": {
            "image/png": "[encoded data removed]",
            "text/plain": [
              "<Figure size 432x288 with 1 Axes>"
            ]
          },
          "metadata": {
            "tags": [],
            "image/png": {
              "width": 380,
              "height": 250
            }
          }
        }
      ]
    },
    {
      "metadata": {
        "id": "0mTo6ulgPR2r",
        "colab_type": "text"
      },
      "cell_type": "markdown",
      "source": [
        "## Inference\n",
        "\n",
        "Now that the model is trained, we can use it for inference. We've done this before, but now we need to remember to set the model in inference mode with `model.eval()`. You'll also want to turn off autograd with the `torch.no_grad()` context."
      ]
    },
    {
      "metadata": {
        "id": "zbbQwHvT15rh",
        "colab_type": "code",
        "colab": {}
      },
      "cell_type": "code",
      "source": [
        "def view_classify(img, ps, version=\"MNIST\"):\n",
        "    ''' Function for viewing an image and it's predicted classes.\n",
        "    '''\n",
        "    ps = ps.data.numpy().squeeze()\n",
        "\n",
        "    fig, (ax1, ax2) = plt.subplots(figsize=(6,9), ncols=2)\n",
        "    ax1.imshow(img.resize_(1, 28, 28).numpy().squeeze())\n",
        "    ax1.axis('off')\n",
        "    ax2.barh(np.arange(10), ps)\n",
        "    ax2.set_aspect(0.1)\n",
        "    ax2.set_yticks(np.arange(10))\n",
        "    if version == \"MNIST\":\n",
        "        ax2.set_yticklabels(np.arange(10))\n",
        "    elif version == \"Fashion\":\n",
        "        ax2.set_yticklabels(['T-shirt/top',\n",
        "                            'Trouser',\n",
        "                            'Pullover',\n",
        "                            'Dress',\n",
        "                            'Coat',\n",
        "                            'Sandal',\n",
        "                            'Shirt',\n",
        "                            'Sneaker',\n",
        "                            'Bag',\n",
        "                            'Ankle Boot'], size='small');\n",
        "    ax2.set_title('Class Probability')\n",
        "    ax2.set_xlim(0, 1.1)\n",
        "\n",
        "    plt.tight_layout()"
      ],
      "execution_count": 0,
      "outputs": []
    },
    {
      "metadata": {
        "id": "2wIGHlb_PR2u",
        "colab_type": "code",
        "colab": {
          "base_uri": "https://localhost:8080/",
          "height": 224
        },
        "outputId": "b439ccc6-4b66-46fe-cf74-e95d62c32356"
      },
      "cell_type": "code",
      "source": [
        "# Import helper module (should be in the repo)\n",
        "import helper\n",
        "import numpy as np\n",
        "\n",
        "# Test out your network!\n",
        "\n",
        "model.eval()\n",
        "\n",
        "dataiter = iter(testloader)\n",
        "images, labels = dataiter.next()\n",
        "img = images[0]\n",
        "# Convert 2D image to 1D vector\n",
        "img = img.view(1, 784)\n",
        "\n",
        "# Calculate the class probabilities (softmax) for img\n",
        "with torch.no_grad():\n",
        "    output = model.forward(img)\n",
        "\n",
        "ps = torch.exp(output)\n",
        "\n",
        "# Plot the image and probabilities\n",
        "# helper.view_classify(img.view(1, 28, 28), ps, version='Fashion')\n",
        "view_classify(img.view(1, 28, 28), ps, version='Fashion')"
      ],
      "execution_count": 13,
      "outputs": [
        {
          "output_type": "display_data",
          "data": {
            "image/png": "[encoded data removed]",
            "text/plain": [
              "<Figure size 432x648 with 2 Axes>"
            ]
          },
          "metadata": {
            "tags": [],
            "image/png": {
              "width": 423,
              "height": 206
            }
          }
        }
      ]
    },
    {
      "metadata": {
        "id": "eIo4vMz3PR24",
        "colab_type": "text"
      },
      "cell_type": "markdown",
      "source": [
        "## Next Up!\n",
        "\n",
        "In the next part, I'll show you how to save your trained models. In general, you won't want to train a model everytime you need it. Instead, you'll train once, save it, then load the model when you want to train more or use if for inference."
      ]
    }
  ]
}